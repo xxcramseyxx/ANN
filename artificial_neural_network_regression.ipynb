{
  "nbformat": 4,
  "nbformat_minor": 0,
  "metadata": {
    "colab": {
      "name": "artificial_neural_network_regression.ipynb",
      "provenance": [],
      "collapsed_sections": [],
      "include_colab_link": true
    },
    "kernelspec": {
      "name": "python3",
      "display_name": "Python 3"
    }
  },
  "cells": [
    {
      "cell_type": "markdown",
      "metadata": {
        "id": "view-in-github",
        "colab_type": "text"
      },
      "source": [
        "<a href=\"https://colab.research.google.com/github/xxcramseyxx/ANN/blob/main/artificial_neural_network_regression.ipynb\" target=\"_parent\"><img src=\"https://colab.research.google.com/assets/colab-badge.svg\" alt=\"Open In Colab\"/></a>"
      ]
    },
    {
      "cell_type": "markdown",
      "metadata": {
        "id": "3cbb7fRy-eyr"
      },
      "source": [
        "# Artificial Neural Network"
      ]
    },
    {
      "cell_type": "markdown",
      "metadata": {
        "id": "ZY1cpaw8zQ4s"
      },
      "source": [
        "# New Section"
      ]
    },
    {
      "cell_type": "markdown",
      "metadata": {
        "id": "8sNDnxE2-pwE"
      },
      "source": [
        "### Importing the libraries"
      ]
    },
    {
      "cell_type": "code",
      "metadata": {
        "id": "lxChR1Rk-umf"
      },
      "source": [
        "import pandas as pd\n",
        "import numpy as np\n",
        "import tensorflow as tf"
      ],
      "execution_count": null,
      "outputs": []
    },
    {
      "cell_type": "code",
      "metadata": {
        "id": "uBTqR3nacj0e",
        "colab": {
          "base_uri": "https://localhost:8080/",
          "height": 35
        },
        "outputId": "120b6552-d0f5-421c-fab3-7982caf1e8a9"
      },
      "source": [
        "tf.__version__"
      ],
      "execution_count": null,
      "outputs": [
        {
          "output_type": "execute_result",
          "data": {
            "application/vnd.google.colaboratory.intrinsic+json": {
              "type": "string"
            },
            "text/plain": [
              "'2.4.1'"
            ]
          },
          "metadata": {
            "tags": []
          },
          "execution_count": 2
        }
      ]
    },
    {
      "cell_type": "markdown",
      "metadata": {
        "id": "AG3FQEch-yuA"
      },
      "source": [
        "## Part 1 - Data Preprocessing"
      ]
    },
    {
      "cell_type": "markdown",
      "metadata": {
        "id": "-4zq8Mza_D9O"
      },
      "source": [
        "### Importing the dataset"
      ]
    },
    {
      "cell_type": "code",
      "metadata": {
        "id": "B9CV13Co_HHM"
      },
      "source": [
        "df = pd.read_excel('/content/Folds5x2_pp.xlsx')\n",
        "X = df.iloc[:, : -1].values\n",
        "y = df.iloc[:, -1].values"
      ],
      "execution_count": null,
      "outputs": []
    },
    {
      "cell_type": "code",
      "metadata": {
        "id": "fipXChBp4Pzy",
        "colab": {
          "base_uri": "https://localhost:8080/"
        },
        "outputId": "93fdc117-c08d-4bd5-8d00-d3bfdc32afa4"
      },
      "source": [
        "print(X)\n",
        "print(y)"
      ],
      "execution_count": null,
      "outputs": [
        {
          "output_type": "stream",
          "text": [
            "[[  14.96   41.76 1024.07   73.17]\n",
            " [  25.18   62.96 1020.04   59.08]\n",
            " [   5.11   39.4  1012.16   92.14]\n",
            " ...\n",
            " [  31.32   74.33 1012.92   36.48]\n",
            " [  24.48   69.45 1013.86   62.39]\n",
            " [  21.6    62.52 1017.23   67.87]]\n",
            "[463.26 444.37 488.56 ... 429.57 435.74 453.28]\n"
          ],
          "name": "stdout"
        }
      ]
    },
    {
      "cell_type": "markdown",
      "metadata": {
        "id": "VC6omXel_Up0"
      },
      "source": [
        "### Splitting the dataset into the Training set and Test set"
      ]
    },
    {
      "cell_type": "code",
      "metadata": {
        "id": "L5edeb2r_agx"
      },
      "source": [
        "from sklearn.model_selection import train_test_split\n",
        "X_train, X_test, y_train, y_test = train_test_split(X, y, test_size = 0.2, random_state = 0)"
      ],
      "execution_count": null,
      "outputs": []
    },
    {
      "cell_type": "markdown",
      "metadata": {
        "id": "_mSLlAT9_eyI"
      },
      "source": [
        "## Part 2 - Building the ANN"
      ]
    },
    {
      "cell_type": "markdown",
      "metadata": {
        "id": "CsBULd_f_wLY"
      },
      "source": [
        "### Initializing the ANN"
      ]
    },
    {
      "cell_type": "code",
      "metadata": {
        "id": "J6Hd97Ls__Nz"
      },
      "source": [
        "ann = tf.keras.models.Sequential()"
      ],
      "execution_count": null,
      "outputs": []
    },
    {
      "cell_type": "markdown",
      "metadata": {
        "id": "iitAFJS_ABUn"
      },
      "source": [
        "### Adding the input layer and the first hidden layer"
      ]
    },
    {
      "cell_type": "code",
      "metadata": {
        "id": "ksO_Vv40AHix"
      },
      "source": [
        "ann.add(tf.keras.layers.Dense(units=6, activation='relu'))"
      ],
      "execution_count": null,
      "outputs": []
    },
    {
      "cell_type": "markdown",
      "metadata": {
        "id": "-lb4kK_wAKbs"
      },
      "source": [
        "### Adding the second hidden layer"
      ]
    },
    {
      "cell_type": "code",
      "metadata": {
        "id": "c2357OqEAQOQ"
      },
      "source": [
        "ann.add(tf.keras.layers.Dense(units=6, activation='relu'))"
      ],
      "execution_count": null,
      "outputs": []
    },
    {
      "cell_type": "markdown",
      "metadata": {
        "id": "jwMOmKb3AdBY"
      },
      "source": [
        "### Adding the output layer"
      ]
    },
    {
      "cell_type": "markdown",
      "metadata": {
        "id": "Vl1J3ITdd48A"
      },
      "source": [
        ""
      ]
    },
    {
      "cell_type": "code",
      "metadata": {
        "id": "YFATpzsUAkLL"
      },
      "source": [
        "ann.add(tf.keras.layers.Dense(units=1))"
      ],
      "execution_count": null,
      "outputs": []
    },
    {
      "cell_type": "markdown",
      "metadata": {
        "id": "fq7e4fF6A1yy"
      },
      "source": [
        "## Part 3 - Training the ANN"
      ]
    },
    {
      "cell_type": "markdown",
      "metadata": {
        "id": "qDeylAs2An25"
      },
      "source": [
        "### Compiling the ANN"
      ]
    },
    {
      "cell_type": "code",
      "metadata": {
        "id": "pesgbWlCAtB4"
      },
      "source": [
        "ann.compile(optimizer = 'adam', loss = 'mean_squared_error')"
      ],
      "execution_count": null,
      "outputs": []
    },
    {
      "cell_type": "markdown",
      "metadata": {
        "id": "YjVuiybYOo7r"
      },
      "source": [
        "### Training the ANN model on the Training set"
      ]
    },
    {
      "cell_type": "code",
      "metadata": {
        "id": "c_vV-tiiA5zn",
        "colab": {
          "base_uri": "https://localhost:8080/",
          "height": 1000
        },
        "outputId": "53b0adf2-b7e5-4fc2-fbc2-a5e316f682b8"
      },
      "source": [
        "ann.fit(X_train, y_train, batch_size = 32, epochs = 100)"
      ],
      "execution_count": null,
      "outputs": [
        {
          "output_type": "stream",
          "text": [
            "Epoch 1/100\n",
            "240/240 [==============================] - 0s 1ms/step - loss: 38520.5117\n",
            "Epoch 2/100\n",
            "240/240 [==============================] - 0s 947us/step - loss: 220.1058\n",
            "Epoch 3/100\n",
            "240/240 [==============================] - 0s 938us/step - loss: 210.3973\n",
            "Epoch 4/100\n",
            "240/240 [==============================] - 0s 889us/step - loss: 199.6747\n",
            "Epoch 5/100\n",
            "240/240 [==============================] - 0s 987us/step - loss: 186.6076\n",
            "Epoch 6/100\n",
            "240/240 [==============================] - 0s 967us/step - loss: 171.9877\n",
            "Epoch 7/100\n",
            "240/240 [==============================] - 0s 921us/step - loss: 156.4742\n",
            "Epoch 8/100\n",
            "240/240 [==============================] - 0s 1ms/step - loss: 141.2468\n",
            "Epoch 9/100\n",
            "240/240 [==============================] - 0s 972us/step - loss: 125.2004\n",
            "Epoch 10/100\n",
            "240/240 [==============================] - 0s 961us/step - loss: 109.6478\n",
            "Epoch 11/100\n",
            "240/240 [==============================] - 0s 936us/step - loss: 95.2896\n",
            "Epoch 12/100\n",
            "240/240 [==============================] - 0s 1ms/step - loss: 82.1928\n",
            "Epoch 13/100\n",
            "240/240 [==============================] - 0s 916us/step - loss: 69.7223\n",
            "Epoch 14/100\n",
            "240/240 [==============================] - 0s 978us/step - loss: 59.3765\n",
            "Epoch 15/100\n",
            "240/240 [==============================] - 0s 939us/step - loss: 50.5656\n",
            "Epoch 16/100\n",
            "240/240 [==============================] - 0s 960us/step - loss: 44.1142\n",
            "Epoch 17/100\n",
            "240/240 [==============================] - 0s 944us/step - loss: 39.0135\n",
            "Epoch 18/100\n",
            "240/240 [==============================] - 0s 942us/step - loss: 35.8793\n",
            "Epoch 19/100\n",
            "240/240 [==============================] - 0s 931us/step - loss: 33.5906\n",
            "Epoch 20/100\n",
            "240/240 [==============================] - 0s 901us/step - loss: 32.6352\n",
            "Epoch 21/100\n",
            "240/240 [==============================] - 0s 973us/step - loss: 32.0071\n",
            "Epoch 22/100\n",
            "240/240 [==============================] - 0s 954us/step - loss: 30.9475\n",
            "Epoch 23/100\n",
            "240/240 [==============================] - 0s 921us/step - loss: 30.6049\n",
            "Epoch 24/100\n",
            "240/240 [==============================] - 0s 958us/step - loss: 31.2596\n",
            "Epoch 25/100\n",
            "240/240 [==============================] - 0s 966us/step - loss: 30.5865\n",
            "Epoch 26/100\n",
            "240/240 [==============================] - 0s 900us/step - loss: 30.2052\n",
            "Epoch 27/100\n",
            "240/240 [==============================] - 0s 967us/step - loss: 30.2503\n",
            "Epoch 28/100\n",
            "240/240 [==============================] - 0s 955us/step - loss: 30.6435\n",
            "Epoch 29/100\n",
            "240/240 [==============================] - 0s 927us/step - loss: 29.8898\n",
            "Epoch 30/100\n",
            "240/240 [==============================] - 0s 971us/step - loss: 29.6567\n",
            "Epoch 31/100\n",
            "240/240 [==============================] - 0s 956us/step - loss: 30.5154\n",
            "Epoch 32/100\n",
            "240/240 [==============================] - 0s 924us/step - loss: 29.8451\n",
            "Epoch 33/100\n",
            "240/240 [==============================] - 0s 981us/step - loss: 30.5145\n",
            "Epoch 34/100\n",
            "240/240 [==============================] - 0s 937us/step - loss: 29.4408\n",
            "Epoch 35/100\n",
            "240/240 [==============================] - 0s 974us/step - loss: 29.1515\n",
            "Epoch 36/100\n",
            "240/240 [==============================] - 0s 960us/step - loss: 29.0329\n",
            "Epoch 37/100\n",
            "240/240 [==============================] - 0s 967us/step - loss: 29.2869\n",
            "Epoch 38/100\n",
            "240/240 [==============================] - 0s 925us/step - loss: 29.1759\n",
            "Epoch 39/100\n",
            "240/240 [==============================] - 0s 938us/step - loss: 28.6744\n",
            "Epoch 40/100\n",
            "240/240 [==============================] - 0s 1ms/step - loss: 28.3274\n",
            "Epoch 41/100\n",
            "240/240 [==============================] - 0s 939us/step - loss: 28.2104\n",
            "Epoch 42/100\n",
            "240/240 [==============================] - 0s 980us/step - loss: 28.2063\n",
            "Epoch 43/100\n",
            "240/240 [==============================] - 0s 980us/step - loss: 28.2106\n",
            "Epoch 44/100\n",
            "240/240 [==============================] - 0s 973us/step - loss: 27.9712\n",
            "Epoch 45/100\n",
            "240/240 [==============================] - 0s 957us/step - loss: 28.6679\n",
            "Epoch 46/100\n",
            "240/240 [==============================] - 0s 925us/step - loss: 28.0567\n",
            "Epoch 47/100\n",
            "240/240 [==============================] - 0s 979us/step - loss: 29.0106\n",
            "Epoch 48/100\n",
            "240/240 [==============================] - 0s 1ms/step - loss: 27.9636\n",
            "Epoch 49/100\n",
            "240/240 [==============================] - 0s 920us/step - loss: 27.5589\n",
            "Epoch 50/100\n",
            "240/240 [==============================] - 0s 981us/step - loss: 28.6926\n",
            "Epoch 51/100\n",
            "240/240 [==============================] - 0s 1ms/step - loss: 28.0174\n",
            "Epoch 52/100\n",
            "240/240 [==============================] - 0s 1ms/step - loss: 27.5604\n",
            "Epoch 53/100\n",
            "240/240 [==============================] - 0s 985us/step - loss: 27.7171\n",
            "Epoch 54/100\n",
            "240/240 [==============================] - 0s 923us/step - loss: 27.7057\n",
            "Epoch 55/100\n",
            "240/240 [==============================] - 0s 911us/step - loss: 28.1822\n",
            "Epoch 56/100\n",
            "240/240 [==============================] - 0s 969us/step - loss: 29.3384\n",
            "Epoch 57/100\n",
            "240/240 [==============================] - 0s 950us/step - loss: 27.7515\n",
            "Epoch 58/100\n",
            "240/240 [==============================] - 0s 948us/step - loss: 27.8332\n",
            "Epoch 59/100\n",
            "240/240 [==============================] - 0s 969us/step - loss: 27.8734\n",
            "Epoch 60/100\n",
            "240/240 [==============================] - 0s 937us/step - loss: 27.5549\n",
            "Epoch 61/100\n",
            "240/240 [==============================] - 0s 1ms/step - loss: 27.4523\n",
            "Epoch 62/100\n",
            "240/240 [==============================] - 0s 937us/step - loss: 27.2653\n",
            "Epoch 63/100\n",
            "240/240 [==============================] - 0s 919us/step - loss: 28.1503\n",
            "Epoch 64/100\n",
            "240/240 [==============================] - 0s 972us/step - loss: 27.0503\n",
            "Epoch 65/100\n",
            "240/240 [==============================] - 0s 956us/step - loss: 28.8605\n",
            "Epoch 66/100\n",
            "240/240 [==============================] - 0s 913us/step - loss: 27.9365\n",
            "Epoch 67/100\n",
            "240/240 [==============================] - 0s 978us/step - loss: 27.0855\n",
            "Epoch 68/100\n",
            "240/240 [==============================] - 0s 942us/step - loss: 26.9252\n",
            "Epoch 69/100\n",
            "240/240 [==============================] - 0s 950us/step - loss: 27.0691\n",
            "Epoch 70/100\n",
            "240/240 [==============================] - 0s 987us/step - loss: 27.5361\n",
            "Epoch 71/100\n",
            "240/240 [==============================] - 0s 979us/step - loss: 28.3909\n",
            "Epoch 72/100\n",
            "240/240 [==============================] - 0s 964us/step - loss: 27.4872\n",
            "Epoch 73/100\n",
            "240/240 [==============================] - 0s 956us/step - loss: 28.0903\n",
            "Epoch 74/100\n",
            "240/240 [==============================] - 0s 998us/step - loss: 29.3490\n",
            "Epoch 75/100\n",
            "240/240 [==============================] - 0s 955us/step - loss: 27.4863\n",
            "Epoch 76/100\n",
            "240/240 [==============================] - 0s 931us/step - loss: 27.1813\n",
            "Epoch 77/100\n",
            "240/240 [==============================] - 0s 946us/step - loss: 27.2096\n",
            "Epoch 78/100\n",
            "240/240 [==============================] - 0s 974us/step - loss: 26.9530\n",
            "Epoch 79/100\n",
            "240/240 [==============================] - 0s 947us/step - loss: 27.5400\n",
            "Epoch 80/100\n",
            "240/240 [==============================] - 0s 989us/step - loss: 28.1426\n",
            "Epoch 81/100\n",
            "240/240 [==============================] - 0s 936us/step - loss: 27.1907\n",
            "Epoch 82/100\n",
            "240/240 [==============================] - 0s 943us/step - loss: 26.9463\n",
            "Epoch 83/100\n",
            "240/240 [==============================] - 0s 965us/step - loss: 26.8269\n",
            "Epoch 84/100\n",
            "240/240 [==============================] - 0s 901us/step - loss: 27.3251\n",
            "Epoch 85/100\n",
            "240/240 [==============================] - 0s 924us/step - loss: 27.2117\n",
            "Epoch 86/100\n",
            "240/240 [==============================] - 0s 910us/step - loss: 28.2465\n",
            "Epoch 87/100\n",
            "240/240 [==============================] - 0s 944us/step - loss: 28.2732\n",
            "Epoch 88/100\n",
            "240/240 [==============================] - 0s 927us/step - loss: 27.2913\n",
            "Epoch 89/100\n",
            "240/240 [==============================] - 0s 956us/step - loss: 28.2393\n",
            "Epoch 90/100\n",
            "240/240 [==============================] - 0s 932us/step - loss: 27.1409\n",
            "Epoch 91/100\n",
            "240/240 [==============================] - 0s 918us/step - loss: 27.6369\n",
            "Epoch 92/100\n",
            "240/240 [==============================] - 0s 977us/step - loss: 27.4720\n",
            "Epoch 93/100\n",
            "240/240 [==============================] - 0s 950us/step - loss: 27.3773\n",
            "Epoch 94/100\n",
            "240/240 [==============================] - 0s 933us/step - loss: 27.9344\n",
            "Epoch 95/100\n",
            "240/240 [==============================] - 0s 994us/step - loss: 27.5266\n",
            "Epoch 96/100\n",
            "240/240 [==============================] - 0s 985us/step - loss: 27.0317\n",
            "Epoch 97/100\n",
            "240/240 [==============================] - 0s 1ms/step - loss: 26.9791\n",
            "Epoch 98/100\n",
            "240/240 [==============================] - 0s 1ms/step - loss: 27.1696\n",
            "Epoch 99/100\n",
            "240/240 [==============================] - 0s 1ms/step - loss: 27.5585\n",
            "Epoch 100/100\n",
            "240/240 [==============================] - 0s 1ms/step - loss: 26.9228\n"
          ],
          "name": "stdout"
        },
        {
          "output_type": "execute_result",
          "data": {
            "text/plain": [
              "<tensorflow.python.keras.callbacks.History at 0x7f3a6e5a4eb8>"
            ]
          },
          "metadata": {
            "tags": []
          },
          "execution_count": 58
        }
      ]
    },
    {
      "cell_type": "markdown",
      "metadata": {
        "id": "0H0zKKNEBLD5"
      },
      "source": [
        "### Predicting the results of the Test set"
      ]
    },
    {
      "cell_type": "code",
      "metadata": {
        "id": "IA0yApEmBG1X",
        "colab": {
          "base_uri": "https://localhost:8080/",
          "height": 136
        },
        "outputId": "ccc04560-8129-4d30-9750-1bfbd407e762"
      },
      "source": [
        "y_pred = ann.predict(X_test)\n",
        "np.set_printoptions(precision=2)\n",
        "print(np.concatenate((y_pred.reshape(len(y_pred),1), y_test.reshape(len(y_test),1)),1))"
      ],
      "execution_count": null,
      "outputs": [
        {
          "output_type": "stream",
          "text": [
            "[[430.17 431.23]\n",
            " [461.24 460.01]\n",
            " [464.76 461.14]\n",
            " ...\n",
            " [471.92 473.26]\n",
            " [438.94 438.  ]\n",
            " [458.05 463.28]]\n"
          ],
          "name": "stdout"
        }
      ]
    }
  ]
}